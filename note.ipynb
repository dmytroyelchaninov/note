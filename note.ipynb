{
 "cells": [
  {
   "cell_type": "markdown",
   "metadata": {},
   "source": [
    "Note on Singleton Pattern\n",
    "\n",
    "Sometimes you need to create object, which will serve \n",
    "as \"storage\" for some variables, through instance attributes.\n",
    "For example, you need to cache some data.\n",
    "\n",
    "But the thing is, that you should have only one instance of that class\n",
    "throughout your prorgramm or separate scripts.\n",
    "So, if instance of some class have been already created before, \n",
    "any attempts of creating another object should do nothing.\n",
    "Really, imagine you have two or more different objects that contains same type\n",
    "of data and serving the same purpose? How to control over that?\n",
    "\n",
    "How do you think, is it possible to do so in Java?\n",
    "\n",
    "Let's break down the question into several parts.\n",
    "Suppose I have a class which serves the cache purposes:"
   ]
  },
  {
   "cell_type": "code",
   "execution_count": 21,
   "metadata": {},
   "outputs": [],
   "source": [
    "class Cache():\n",
    "\n",
    "    _cache = {}\n",
    "\n",
    "    def __init__(self):\n",
    "        pass\n",
    "    \n",
    "    @staticmethod  # don't worry about this @ wrapper, it's not the point here\n",
    "    def get_cache(key):\n",
    "        return Cache._cache[key]\n",
    "    \n",
    "    def add_cache(self, key, val):\n",
    "        Cache._cache[key] = val\n",
    "        return self"
   ]
  },
  {
   "cell_type": "code",
   "execution_count": 22,
   "metadata": {},
   "outputs": [],
   "source": [
    "cache = Cache()"
   ]
  },
  {
   "cell_type": "code",
   "execution_count": 23,
   "metadata": {},
   "outputs": [
    {
     "data": {
      "text/plain": [
       "<__main__.Cache at 0x10432aa40>"
      ]
     },
     "execution_count": 23,
     "metadata": {},
     "output_type": "execute_result"
    }
   ],
   "source": [
    "cache.add_cache('place', 'potapsco')"
   ]
  },
  {
   "cell_type": "code",
   "execution_count": 24,
   "metadata": {},
   "outputs": [
    {
     "data": {
      "text/plain": [
       "'potapsco'"
      ]
     },
     "execution_count": 24,
     "metadata": {},
     "output_type": "execute_result"
    }
   ],
   "source": [
    "Cache.get_cache('place')"
   ]
  },
  {
   "cell_type": "markdown",
   "metadata": {},
   "source": [
    "Nice, it works. But I can create several Cache instances, which can mess up everything.\n",
    "\n",
    "Also, name cache isn't available now. How to avoid multiple instance and store everything in one class?\n",
    "I should mention that it's not only about cache, e.g. you can control over number of connections, requests and other stuff. There are a lot of examples where you need only one class instance! You might need to store some settings which should be stored only once and be accessible from any place.\n",
    "\n",
    "Yes, we can use some flags, global variables, which is indeed bad practice (almost any global variable is bad practice). But there is \"singleton pattern\" which is elegant and concise way to solve this problem.\n",
    "\n",
    "It's power depends on the core of Python ideas, which unite both object-oriented and functional programming under same roof.\n",
    "\n",
    "What happens when I do cache = Cache()? How class is actually created?\n",
    "\n",
    "It seems that __ init __  which I used in Cache class, prompted first and *this* method creates an object. But actually it only **initializes** the attributes of already created class instance. \n",
    "\n",
    "Behind the scenes, there is more deep, __ new __ method, which **creates** object itself, without any attributes and methods, just allocating some place for object in memory. This method executed by default firstly any time you call (create) any object. You can't control over memory it uses like in C++, but *you can control* the process of the object \"construction\".\n",
    "\n",
    "And the main trick is, that you can use simple if statement which will create object if any other exist, otherwise - just do nothing. What a power of Python!\n",
    "\n",
    "Let me show you that:"
   ]
  },
  {
   "cell_type": "code",
   "execution_count": 25,
   "metadata": {},
   "outputs": [],
   "source": [
    "class Cache():\n",
    "\n",
    "    _instance = None # class attribute which shared across any current class objects. Simple flag\n",
    "\n",
    "    def __new__(cls, *args, **kwargs): # Here we go! We are using the method right from the Python's heart\n",
    "        if cls._instance is None:\n",
    "            cls._instance = super(Cache, cls).__new__(cls)\n",
    "            # This row is more than tricky at the first sight, but let me explain that.\n",
    "            # super() returns the class instance of parent class, in this case, parent of Cache class.\n",
    "            # But there is no any other classes except only Cache, isn't it?\n",
    "            # The thing is, that any python class always inherits core, superparent class \"object\"\n",
    "            # Which has another from here defined method __new__ (at it's default shape)\n",
    "            # The purpose of super(Cache, cls) is to return parent class which is able to create not only one\n",
    "            # but any number of objects! \n",
    "            # But if no parent class exists, \"object\" is called, which is very basic built-in core class instance.\n",
    "            # Thus, super(Cache, cls).__new__(cls) will create an object itself anyway :)\n",
    "            # After that, cls._instance will not be None any time, and \"constructor\" will return the very first version\n",
    "            # of object (when first time called) it created. \n",
    "            # This is what is called \"Singleton pattern\"\n",
    "        return cls._instance\n",
    "\n",
    "    # Other stuff remains untouched\n",
    "    def __init__(self):\n",
    "        pass\n",
    "    \n",
    "    @staticmethod\n",
    "    def get_cache(key):\n",
    "        return Cache._cache[key]\n",
    "    \n",
    "    def add_cache(self, key, val):\n",
    "        Cache._cache[key] = val\n",
    "        return self"
   ]
  },
  {
   "cell_type": "markdown",
   "metadata": {},
   "source": [
    "How can i use that in practice?\n",
    "\n",
    "Let's say, you have a function or its part, which stores some data into Cache:"
   ]
  },
  {
   "cell_type": "code",
   "execution_count": 26,
   "metadata": {},
   "outputs": [],
   "source": [
    "def jazz_func(key, val):\n",
    "    cache = Cache._instance \n",
    "    # No worries, Cache._instance, if exists, could be only one!\n",
    "    # Also, we can avoid even using cache name, just by using Cache._instance any time\n",
    "    if cache.get_cache('user1234') is None: # check if user exists\n",
    "        cache.add_cache('user1234', 'password1234') # add if not\n",
    "        return \"User added\"\n",
    "    else:\n",
    "        return \"User with this name already exists\""
   ]
  },
  {
   "cell_type": "markdown",
   "metadata": {},
   "source": [
    "Or you might have function which should on first call calculate something and store that, but on next calls use already stored parameters:"
   ]
  },
  {
   "cell_type": "code",
   "execution_count": 27,
   "metadata": {},
   "outputs": [],
   "source": [
    "class Borscht():\n",
    "\n",
    "    _instance = None\n",
    "\n",
    "    def __new__(cls, *args, **kwargs):\n",
    "        if cls._instance is None:\n",
    "            cls._instance = super(Borscht, cls).__new__(cls)\n",
    "        return cls._instance\n",
    "\n",
    "    def __init__(self, meat, water):\n",
    "        if not hasattr(self, \"bouillon_ready\"):\n",
    "            self.meat = meat\n",
    "            self.water = water\n",
    "            self._bouillon = f\"Borscht setup: type of meat - {meat}, water - {water}\"\n",
    "            self.bouillon_ready = True  # make sure bouillon is cooked\n",
    "\n",
    "    def get_bouillon(self):\n",
    "        return self._bouillon"
   ]
  },
  {
   "cell_type": "code",
   "execution_count": 28,
   "metadata": {},
   "outputs": [],
   "source": [
    "def cook_borscht(meat, water, vegetables):\n",
    "    if Borscht._instance is None:\n",
    "        base = Borscht(meat, water) # you can avoid assigning base, just by using Borscht._instance every time\n",
    "        print(\"Bouillon is ready and stored\")\n",
    "        print(f\"Ingridients used: meat - {base.meat}, water - {base.water}\")\n",
    "    else:\n",
    "        # Access the singleton instance to get the bouillon\n",
    "        base = Borscht._instance\n",
    "        bouillon = base.get_bouillon()\n",
    "        print(\"Using precooked bouillon\")\n",
    "        print(f\"{bouillon}, {vegetables}\")"
   ]
  },
  {
   "cell_type": "code",
   "execution_count": 29,
   "metadata": {},
   "outputs": [
    {
     "name": "stdout",
     "output_type": "stream",
     "text": [
      "Bouillon is ready and stored\n",
      "Ingridients used: meat - beef, water - regular\n"
     ]
    }
   ],
   "source": [
    "cook_borscht(meat=\"beef\", water=\"regular\", vegetables=\"beets, carrots\")"
   ]
  },
  {
   "cell_type": "code",
   "execution_count": 30,
   "metadata": {},
   "outputs": [
    {
     "name": "stdout",
     "output_type": "stream",
     "text": [
      "Using precooked bouillon\n",
      "Borscht setup: type of meat - beef, water - regular, beets, carrots\n"
     ]
    }
   ],
   "source": [
    "cook_borscht(meat=\"pork\", water=\"uncommon\", vegetables=\"beets, carrots\")"
   ]
  },
  {
   "cell_type": "markdown",
   "metadata": {},
   "source": [
    "See, no pork is here, and uncommon water as well. Because once object is created, no way other objects of this class could be created, even by mistake."
   ]
  }
 ],
 "metadata": {
  "kernelspec": {
   "display_name": "tensorflow",
   "language": "python",
   "name": "python3"
  },
  "language_info": {
   "codemirror_mode": {
    "name": "ipython",
    "version": 3
   },
   "file_extension": ".py",
   "mimetype": "text/x-python",
   "name": "python",
   "nbconvert_exporter": "python",
   "pygments_lexer": "ipython3",
   "version": "3.10.14"
  }
 },
 "nbformat": 4,
 "nbformat_minor": 2
}
